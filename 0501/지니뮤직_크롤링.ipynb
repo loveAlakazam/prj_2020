{
 "cells": [
  {
   "cell_type": "markdown",
   "metadata": {},
   "source": [
    "# [혼자놀기 프로젝트2] 지니뮤직 crawling\n",
    "\n",
    "\n",
    "[스파르타 코딩- 혼자놀기 패키지](https://www.notion.so/85d77f7239f74a2e9b7de8b1ecb40bcf)"
   ]
  },
  {
   "cell_type": "markdown",
   "metadata": {},
   "source": [
    "### 1. 지니뮤직 웹크롤링 \n",
    "\n",
    "- 지니 뮤직 차트 1위~50위 곡만 순위/노래제목(타이틀)/아티스트 정보만을 크롤링"
   ]
  },
  {
   "cell_type": "code",
   "execution_count": 1,
   "metadata": {},
   "outputs": [
    {
     "name": "stdout",
     "output_type": "stream",
     "text": [
      "50\n",
      "시청 앞 지하철 역에서\n",
      "곽진언\n"
     ]
    }
   ],
   "source": [
    "import requests\n",
    "from bs4 import BeautifulSoup\n",
    "\n",
    "# URL을 읽어서 HTML을 받아오고\n",
    "headers = {'User-Agent' : 'Mozilla/5.0 (Windows NT 10.0; Win64; x64)AppleWebKit/537.36 (KHTML, like Gecko) Chrome/73.0.3683.86 Safari/537.36'}\n",
    "data= requests.get('https://www.genie.co.kr/chart/top200', headers=headers)\n",
    "\n",
    "# HTML을 BeautifulSoup 라는 라이브러리를 활용해 검색하기 용이한 상태로 만듦\n",
    "soup= BeautifulSoup(data.text, 'html.parser')\n",
    "\n",
    "# print(soup)\n",
    "# select를 이용해서 tr들을 불러오기\n",
    "songs= soup.select('#body-content > div.newest-list> div > table >tbody> tr')\n",
    "\n",
    "# movies (tr들) 의 반복문을 돌리기\n",
    "for song in songs:\n",
    "    # tc 태그 중 클래스가 number인 것들의\n",
    "    # 텍스트 중 0,1 번째 글자를 가져오고 좌우 공백을 제거합니다.\n",
    "    rank= song.select_one('td.number').text[0:2].strip()\n",
    "    \n",
    "    # 타이틀 부분 크롤링\n",
    "    title=song.select_one('td.info > a.title.ellipsis').text.strip()\n",
    "    \n",
    "    # 아티스트 부분 크롤링\n",
    "    artist= song.select_one('td.info > a.artist.ellipsis').text\n",
    "\n",
    "print(rank)\n",
    "print(title)\n",
    "print(artist)\n"
   ]
  },
  {
   "cell_type": "markdown",
   "metadata": {},
   "source": [
    "### 2. 지니뮤직 곡 순위를 엑셀파일에 저장하기\n",
    "\n",
    "- 아무것도 없는 엑셀파일을 생성한다. (mymusic.xlsx)"
   ]
  },
  {
   "cell_type": "markdown",
   "metadata": {},
   "source": [
    "#### openpyxl 라이브러리 설치"
   ]
  },
  {
   "cell_type": "code",
   "execution_count": 2,
   "metadata": {},
   "outputs": [
    {
     "name": "stdout",
     "output_type": "stream",
     "text": [
      "Requirement already satisfied: openpyxl in c:\\users\\user\\anaconda3\\lib\\site-packages (2.6.2)\n",
      "Requirement already satisfied: jdcal in c:\\users\\user\\anaconda3\\lib\\site-packages (from openpyxl) (1.4.1)\n",
      "Requirement already satisfied: et-xmlfile in c:\\users\\user\\anaconda3\\lib\\site-packages (from openpyxl) (1.0.1)\n"
     ]
    }
   ],
   "source": [
    "!pip install openpyxl"
   ]
  },
  {
   "cell_type": "markdown",
   "metadata": {},
   "source": [
    "#### 연습 코드 작성"
   ]
  },
  {
   "cell_type": "code",
   "execution_count": 6,
   "metadata": {},
   "outputs": [
    {
     "name": "stdout",
     "output_type": "stream",
     "text": [
      "None\n"
     ]
    }
   ],
   "source": [
    "from openpyxl import load_workbook\n",
    "\n",
    "# data_only=True로 해줘야 수식이 아닌 값으로 받아온다\n",
    "load_wb= load_workbook('mymusic.xlsx', data_only=True)\n",
    "\n",
    "# 시트 이름으로 불러오기\n",
    "load_ws= load_wb['Sheet1']\n",
    "\n",
    "# 셀 좌표로 값 출력\n",
    "print(load_ws.cell(1,1).value)\n",
    "\n",
    "# 셀 좌표로 값 입력\n",
    "load_ws.cell(5,7, '5행 7열')\n",
    "load_wb.save('mymusic.xlsx')"
   ]
  },
  {
   "cell_type": "markdown",
   "metadata": {},
   "source": [
    "![결과이미지](./practice_openpyxl.JPG)"
   ]
  },
  {
   "cell_type": "code",
   "execution_count": 7,
   "metadata": {},
   "outputs": [],
   "source": [
    "import requests\n",
    "from bs4 import BeautifulSoup\n",
    "from openpyxl import load_workbook\n",
    "\n",
    "# 엑셀파일 불러오기\n",
    "load_wb= load_workbook('mymusic.xlsx', data_only=True)\n",
    "load_ws= load_wb['Sheet1']\n",
    "\n",
    "# URL을 읽어서 HTML을 받아오고\n",
    "headers = {'User-Agent' : 'Mozilla/5.0 (Windows NT 10.0; Win64; x64)AppleWebKit/537.36 (KHTML, like Gecko) Chrome/73.0.3683.86 Safari/537.36'}\n",
    "data= requests.get('https://www.genie.co.kr/chart/top200', headers=headers)\n",
    "\n",
    "# HTML을 BeautifulSoup 라는 라이브러리를 활용해 검색하기 용이한 상태로 만듦\n",
    "soup= BeautifulSoup(data.text, 'html.parser')\n",
    "\n",
    "# print(soup)\n",
    "# select를 이용해서 tr들을 불러오기\n",
    "songs= soup.select('#body-content > div.newest-list> div > table >tbody> tr')\n",
    "\n",
    "# 2번째 행부터 채운다.\n",
    "i=2 \n",
    "# movies (tr들) 의 반복문을 돌리기\n",
    "for song in songs:\n",
    "    # tc 태그 중 클래스가 number인 것들의\n",
    "    # 텍스트 중 0,1 번째 글자를 가져오고 좌우 공백을 제거합니다.\n",
    "    rank= song.select_one('td.number').text[0:2].strip()\n",
    "    \n",
    "    # 타이틀 부분 크롤링\n",
    "    title=song.select_one('td.info > a.title.ellipsis').text.strip()\n",
    "    \n",
    "    # 아티스트 부분 크롤링\n",
    "    artist= song.select_one('td.info > a.artist.ellipsis').text\n",
    "\n",
    "    # cell에 값들을 입력하기\n",
    "    load_ws.cell(i, 1, rank)\n",
    "    load_ws.cell(i, 2, title)\n",
    "    load_ws.cell(i, 3, artist)\n",
    "    \n",
    "    i+=1\n",
    "\n",
    "#저장하기\n",
    "load_wb.save('mymusic.xlsx')\n"
   ]
  },
  {
   "cell_type": "markdown",
   "metadata": {},
   "source": [
    "![5월1일 지니뮤직 차트 1~5위](ginie_rank_0501.JPG)"
   ]
  },
  {
   "cell_type": "markdown",
   "metadata": {},
   "source": [
    "<br><br>\n",
    "\n",
    "### 3. 저번달 1일 ~  현재까지를 기록하도록 한다.\n",
    "\n",
    "- 직접 내가 타이핑을 안하고도, 라이브러리를 이용하여 자동으로 시간정보를 얻을 수 없을까?\n",
    "\n",
    "#### 참고자료\n",
    "- [참고 자료- 날짜관련 라이브러리 사용 - 파이썬 코딩 도장](https://dojang.io/mod/page/view.php?id=2463)\n",
    "- [참고 자료- 기간 사이 날짜 출력](https://hashcode.co.kr/questions/3118/python-%EC%9D%BC%EC%A0%95-%EA%B8%B0%EA%B0%84%EC%9D%98-%EB%82%A0%EC%A7%9C-%EC%B6%9C%EB%A0%A5-%EB%B0%A9%EB%B2%95)\n",
    "- [openpyxl 라이브러리 활용 - 셀 색칠 ](https://www.it-swarm.dev/ko/python/pythonopenpyxl%EC%9D%84-%EC%82%AC%EC%9A%A9%ED%95%98%EC%97%AC-%EC%85%80%EC%9D%84-%EC%83%89%EC%83%81%EC%9C%BC%EB%A1%9C-%EC%B1%84-%EC%9B%81%EB%8B%88%EB%8B%A4/1053680624/)"
   ]
  },
  {
   "cell_type": "code",
   "execution_count": 8,
   "metadata": {},
   "outputs": [
    {
     "data": {
      "text/plain": [
       "'2020-05-01'"
      ]
     },
     "execution_count": 8,
     "metadata": {},
     "output_type": "execute_result"
    }
   ],
   "source": [
    "# 현재 날짜 출력하기 - time 라이브러리를 활용\n",
    "import time\n",
    "time.strftime('%Y-%m-%d', time.localtime(time.time()))\n"
   ]
  },
  {
   "cell_type": "code",
   "execution_count": 10,
   "metadata": {},
   "outputs": [
    {
     "data": {
      "text/plain": [
       "datetime.datetime(2020, 5, 1, 9, 38, 5, 989551, tzinfo=<UTC>)"
      ]
     },
     "execution_count": 10,
     "metadata": {},
     "output_type": "execute_result"
    }
   ],
   "source": [
    "# 현재 날짜 출력하기 - datetime과 pytz를 이용. (UTC 타임 출력)\n",
    "import pytz\n",
    "from datetime import datetime\n",
    "datetime.now(pytz.timezone('UTC'))"
   ]
  },
  {
   "cell_type": "code",
   "execution_count": 16,
   "metadata": {},
   "outputs": [
    {
     "data": {
      "text/plain": [
       "datetime.datetime(2020, 5, 1, 18, 40, 32, 229878)"
      ]
     },
     "execution_count": 16,
     "metadata": {},
     "output_type": "execute_result"
    }
   ],
   "source": [
    "# 현재 날짜 출력하기 - datetime 이용.\n",
    "datetime.now()"
   ]
  },
  {
   "cell_type": "code",
   "execution_count": 20,
   "metadata": {},
   "outputs": [
    {
     "name": "stdout",
     "output_type": "stream",
     "text": [
      "년:  2020\n",
      "월:  5\n",
      "일:  1\n"
     ]
    }
   ],
   "source": [
    "# 현재날짜의 시각정보를 분리하여 얻어보기\n",
    "print('년: ', datetime.now().year)\n",
    "print('월: ', datetime.now().month)\n",
    "print('일: ', datetime.now().day)"
   ]
  },
  {
   "cell_type": "code",
   "execution_count": 47,
   "metadata": {},
   "outputs": [
    {
     "name": "stdout",
     "output_type": "stream",
     "text": [
      "today =>  2020-05-01 19:13:19.931246\n",
      "20200401\n",
      "20200501\n"
     ]
    }
   ],
   "source": [
    "today=datetime.now()\n",
    "print('today => ', today)\n",
    "\n",
    "start='%d%02d%02d' %(today.year, today.month-1, 1)\n",
    "print(start)\n",
    "\n",
    "end='%d%02d%02d' %(today.year, today.month, today.day)\n",
    "print(end)"
   ]
  },
  {
   "cell_type": "code",
   "execution_count": 49,
   "metadata": {},
   "outputs": [
    {
     "name": "stdout",
     "output_type": "stream",
     "text": [
      "20200401\n",
      "20200402\n",
      "20200403\n",
      "20200404\n",
      "20200405\n",
      "20200406\n",
      "20200407\n",
      "20200408\n",
      "20200409\n",
      "20200410\n",
      "20200411\n",
      "20200412\n",
      "20200413\n",
      "20200414\n",
      "20200415\n",
      "20200416\n",
      "20200417\n",
      "20200418\n",
      "20200419\n",
      "20200420\n",
      "20200421\n",
      "20200422\n",
      "20200423\n",
      "20200424\n",
      "20200425\n",
      "20200426\n",
      "20200427\n",
      "20200428\n",
      "20200429\n",
      "20200430\n",
      "20200501\n"
     ]
    }
   ],
   "source": [
    "# pandas를 이용하여 처음날짜~마지막날짜 사이의 날짜들을 출력하기\n",
    "import pandas\n",
    "\n",
    "dt_index= pandas.date_range(start=start, end=end)\n",
    "dt_list= dt_index.strftime('%Y%m%d').tolist()\n",
    "\n",
    "for day in dt_list:\n",
    "    print(day)"
   ]
  },
  {
   "cell_type": "code",
   "execution_count": 62,
   "metadata": {},
   "outputs": [],
   "source": [
    "# 2020년 3월 1일 ~ 2020년 5월 1일 까지의 순위를 알아본다.\n",
    "import requests\n",
    "import pandas\n",
    "from bs4 import BeautifulSoup\n",
    "from openpyxl import load_workbook, styles\n",
    "\n",
    "# 엑셀파일 불러오기\n",
    "load_wb= load_workbook('mystock.xlsx', data_only=True)\n",
    "load_ws= load_wb['Sheet1']\n",
    "\n",
    "# 음악차트 기간을 구한다.(두달전 1일 ~ 어제)\n",
    "today=datetime.now()\n",
    "start='%d%02d%02d' %(today.year, today.month-2, 1)\n",
    "end='%d%02d%02d' %(today.year, today.month, today.day)\n",
    "\n",
    "dt_index= pandas.date_range(start=start, end=end)\n",
    "dates= dt_index.strftime('%Y%m%d').tolist()[:-1]\n",
    "\n",
    "j=2 #2번 부터 시작(열)\n",
    "for date in dates:\n",
    "    #url을 읽어서 HTML을 받아온다.\n",
    "    headers={'User-Agent' : 'Mozilla/5.0 (Windows NT 10.0; Win64; x64)AppleWebKit/537.36 (KHTML, like Gecko) Chrome/73.0.3683.86 Safari/537.36'}\n",
    "    data=requests.get('https://www.genie.co.kr/chart/top200?ditc=D&rtm=N&ymd='+date,\n",
    "                      headers=headers)\n",
    "    \n",
    "    #html을 이용하여 BeautifulSoup라는 라이브러리를 활용해 검색하기 용이한 상태로 만든다.\n",
    "    soup= BeautifulSoup(data.text, 'html.parser')\n",
    "    \n",
    "    #select를 이용해서 tr을 모은다.\n",
    "    songs= soup.select('#body-content > div.newest-list > div > table > tbody > tr')\n",
    "    \n",
    "    #날짜 찍기\n",
    "    load_ws.cell(1, j, date)\n",
    "    \n",
    "    #date 노래 차트 1위~50위정보를 반복문으로 돌리기\n",
    "    i=2 #행\n",
    "    for song in songs:\n",
    "        #랭크\n",
    "        rank=song.select_one('td.number').text[0:2].strip()\n",
    "        \n",
    "        title=song.select_one('td.info > a.title.ellipsis').text.strip()\n",
    "        \n",
    "        artist=song.select_one('td.info > a.artist.ellipsis').text\n",
    "        \n",
    "        # 하현우 - 돌덩이 => 색칠\n",
    "        if title=='돌덩이' and artist=='하현우 (국카스텐)':\n",
    "            color=styles.colors.Color(rgb='EEEEEE00')\n",
    "            fill=styles.fills.PatternFill(patternType='solid', fgColor=color)\n",
    "            load_ws.cell(i,j, title+'-'+artist).fill=fill\n",
    "            \n",
    "        # 가호 - 시작 => 색칠\n",
    "        elif title=='시작' and artist=='가호 (Gaho)':\n",
    "            color=styles.colors.Color(rgb='CCEEFF00')\n",
    "            fill=styles.fills.PatternFill(patternType='solid', fgColor=color)\n",
    "            load_ws.cell(i,j, title+'-'+artist).fill=fill\n",
    "           \n",
    "            \n",
    "        else:\n",
    "            load_ws.cell(i, j, title+'-'+artist)\n",
    "        i+=1\n",
    "    j+=1\n",
    "\n",
    "load_wb.save('mystock.xlsx')\n"
   ]
  },
  {
   "cell_type": "markdown",
   "metadata": {},
   "source": [
    "![위의 코드 결과](./final_result.JPG)"
   ]
  },
  {
   "cell_type": "code",
   "execution_count": null,
   "metadata": {},
   "outputs": [],
   "source": []
  }
 ],
 "metadata": {
  "kernelspec": {
   "display_name": "Python 3",
   "language": "python",
   "name": "python3"
  },
  "language_info": {
   "codemirror_mode": {
    "name": "ipython",
    "version": 3
   },
   "file_extension": ".py",
   "mimetype": "text/x-python",
   "name": "python",
   "nbconvert_exporter": "python",
   "pygments_lexer": "ipython3",
   "version": "3.7.0"
  }
 },
 "nbformat": 4,
 "nbformat_minor": 2
}
